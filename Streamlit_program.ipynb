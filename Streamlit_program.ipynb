{
 "cells": [
  {
   "cell_type": "code",
   "execution_count": 22,
   "id": "9fa9c14b",
   "metadata": {},
   "outputs": [],
   "source": [
    "import streamlit as st\n",
    "import pandas as pd\n",
    "import numpy as np\n",
    "DATE_COLUMN = 'date/time'\n",
    "DATA_URL = ('https://s3-us-west-2.amazonaws.com/'\n",
    "         'streamlit-demo-data/uber-raw-data-sep14.csv.gz')\n",
    "\n",
    "def load_data(nrows):\n",
    "    data = pd.read_csv(DATA_URL, nrows=nrows)\n",
    "    lowercase = lambda x: str(x).lower()\n",
    "    data.rename(lowercase, axis='columns', inplace=True)\n",
    "    data[DATE_COLUMN] = pd.to_datetime(data[DATE_COLUMN])\n",
    "    return data"
   ]
  },
  {
   "cell_type": "code",
   "execution_count": 23,
   "id": "f6ab571c",
   "metadata": {},
   "outputs": [
    {
     "data": {
      "text/plain": [
       "DeltaGenerator(_root_container=0, _provided_cursor=None, _parent=None, _block_type=None, _form_data=None)"
      ]
     },
     "execution_count": 23,
     "metadata": {},
     "output_type": "execute_result"
    }
   ],
   "source": [
    "# Create a text element and let the reader know the data is loading.\n",
    "data_load_state = st.text('Loading data...')\n",
    "# Load 10,000 rows of data into the dataframe.\n",
    "data = load_data(10000)\n",
    "# Notify the reader that the data was successfully loaded.\n",
    "data_load_state.text('Loading data...done!')"
   ]
  },
  {
   "cell_type": "code",
   "execution_count": 24,
   "id": "09178235",
   "metadata": {},
   "outputs": [],
   "source": [
    "@st.cache_data\n",
    "def load_data(nrows):data_load_state.text(\"Done! (using st.cache_data)\")"
   ]
  },
  {
   "cell_type": "code",
   "execution_count": 25,
   "id": "e4be62a6",
   "metadata": {},
   "outputs": [],
   "source": [
    "st.subheader('Raw data')\n",
    "st.write(data)"
   ]
  },
  {
   "cell_type": "code",
   "execution_count": 26,
   "id": "35f1d7f5",
   "metadata": {},
   "outputs": [
    {
     "data": {
      "text/plain": [
       "DeltaGenerator(_root_container=0, _provided_cursor=None, _parent=None, _block_type=None, _form_data=None)"
      ]
     },
     "execution_count": 26,
     "metadata": {},
     "output_type": "execute_result"
    }
   ],
   "source": [
    "st.subheader('Number of pickups by hour')"
   ]
  },
  {
   "cell_type": "code",
   "execution_count": 27,
   "id": "d8dcb9e5",
   "metadata": {},
   "outputs": [],
   "source": [
    "hist_values = np.histogram(\n",
    "    data[DATE_COLUMN].dt.hour, bins=24, range=(0,24))[0]"
   ]
  },
  {
   "cell_type": "code",
   "execution_count": 28,
   "id": "c6abf73e",
   "metadata": {},
   "outputs": [
    {
     "data": {
      "text/plain": [
       "DeltaGenerator(_root_container=0, _provided_cursor=None, _parent=None, _block_type=None, _form_data=None)"
      ]
     },
     "execution_count": 28,
     "metadata": {},
     "output_type": "execute_result"
    }
   ],
   "source": [
    "st.bar_chart(hist_values)"
   ]
  },
  {
   "cell_type": "code",
   "execution_count": 29,
   "id": "21b38250",
   "metadata": {},
   "outputs": [
    {
     "data": {
      "text/plain": [
       "DeltaGenerator(_root_container=0, _provided_cursor=None, _parent=None, _block_type=None, _form_data=None)"
      ]
     },
     "execution_count": 29,
     "metadata": {},
     "output_type": "execute_result"
    }
   ],
   "source": [
    "st.subheader('Map of all pickups')\n",
    "st.map(data)"
   ]
  },
  {
   "cell_type": "code",
   "execution_count": 30,
   "id": "ad1b6fa3",
   "metadata": {},
   "outputs": [
    {
     "data": {
      "text/plain": [
       "DeltaGenerator(_root_container=0, _provided_cursor=None, _parent=None, _block_type=None, _form_data=None)"
      ]
     },
     "execution_count": 30,
     "metadata": {},
     "output_type": "execute_result"
    }
   ],
   "source": [
    "hour_to_filter = 17\n",
    "filtered_data = data[data[DATE_COLUMN].dt.hour == hour_to_filter]\n",
    "st.subheader(f'Map of all pickups at {hour_to_filter}:00')\n",
    "st.map(filtered_data)"
   ]
  },
  {
   "cell_type": "code",
   "execution_count": 31,
   "id": "9b01a3c3",
   "metadata": {},
   "outputs": [],
   "source": [
    "hour_to_filter = st.slider('hour', 0, 23, 17)  # min: 0h, max: 23h, default: 17h"
   ]
  },
  {
   "cell_type": "code",
   "execution_count": 32,
   "id": "55ded8c7",
   "metadata": {},
   "outputs": [],
   "source": [
    "st.subheader('Raw data')\n",
    "st.write(data)"
   ]
  },
  {
   "cell_type": "code",
   "execution_count": 33,
   "id": "3890950e",
   "metadata": {},
   "outputs": [],
   "source": [
    "if st.checkbox('Show raw data'):\n",
    "    st.subheader('Raw data')\n",
    "    st.write(data)"
   ]
  },
  {
   "cell_type": "code",
   "execution_count": null,
   "id": "ad9924ad",
   "metadata": {},
   "outputs": [],
   "source": []
  },
  {
   "cell_type": "code",
   "execution_count": null,
   "id": "cfe0eab4",
   "metadata": {},
   "outputs": [],
   "source": []
  }
 ],
 "metadata": {
  "kernelspec": {
   "display_name": "Python 3 (ipykernel)",
   "language": "python",
   "name": "python3"
  },
  "language_info": {
   "codemirror_mode": {
    "name": "ipython",
    "version": 3
   },
   "file_extension": ".py",
   "mimetype": "text/x-python",
   "name": "python",
   "nbconvert_exporter": "python",
   "pygments_lexer": "ipython3",
   "version": "3.9.13"
  }
 },
 "nbformat": 4,
 "nbformat_minor": 5
}
